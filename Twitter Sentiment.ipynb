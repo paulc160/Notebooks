{
 "cells": [
  {
   "cell_type": "code",
   "execution_count": 4,
   "metadata": {},
   "outputs": [
    {
     "name": "stdout",
     "output_type": "stream",
     "text": [
      "{\"created_at\": \"Thu Feb 16 01:02:28 +0000 2012\", \"default_profile\": true, \"description\": \"Oxlade-Chamberlain propaganda, Naby Keita is my Dad\", \"favourites_count\": 5663, \"followers_count\": 177, \"friends_count\": 1239, \"geo_enabled\": true, \"id\": 493637502, \"id_str\": \"493637502\", \"location\": \"Ireland\", \"name\": \"Paul Connolly\", \"profile_background_color\": \"C0DEED\", \"profile_background_image_url\": \"http://abs.twimg.com/images/themes/theme1/bg.png\", \"profile_background_image_url_https\": \"https://abs.twimg.com/images/themes/theme1/bg.png\", \"profile_image_url\": \"http://pbs.twimg.com/profile_images/952607319778525184/Edva8Ckz_normal.jpg\", \"profile_image_url_https\": \"https://pbs.twimg.com/profile_images/952607319778525184/Edva8Ckz_normal.jpg\", \"profile_link_color\": \"1DA1F2\", \"profile_sidebar_border_color\": \"C0DEED\", \"profile_sidebar_fill_color\": \"DDEEF6\", \"profile_text_color\": \"333333\", \"profile_use_background_image\": true, \"screen_name\": \"paulconnolly17\", \"status\": {\"created_at\": \"Tue Oct 20 13:57:43 +0000 2020\", \"favorite_count\": 8, \"id\": 1318551977014550530, \"id_str\": \"1318551977014550530\", \"in_reply_to_screen_name\": \"Tactical_Times\", \"in_reply_to_status_id\": 1318551548511780864, \"in_reply_to_user_id\": 1067816461572468736, \"lang\": \"en\", \"source\": \"<a href=\\\"https://mobile.twitter.com\\\" rel=\\\"nofollow\\\">Twitter Web App</a>\", \"text\": \"@Tactical_Times Spot on, Im not necessarily in favor of the super league, but its either the billionaires who own t\\u2026 https://t.co/fFNk0sz0Ta\", \"truncated\": true}, \"statuses_count\": 5116}\n"
     ]
    }
   ],
   "source": [
    "import twitter\n",
    "\n",
    "# initialize api instance\n",
    "twitter_api = twitter.Api(consumer_key='7ZR91QtjT7UP2iTdrascCDUr1',\n",
    "                        consumer_secret='rATSEDuGrSqLxSdXr0gDrRS4II35iltzN69Y8VAIZXgphBjqcK',\n",
    "                        access_token_key='493637502-0LYumeRGaeXo2gdVbYUkl9Yu9tZLkMcziaw88OBA',\n",
    "                        access_token_secret='dJ8uSrgZSdWBCvHu0fFBfXJVal2vzuS1UsbfxHA60ZLeR')\n",
    "\n",
    "# test authentication\n",
    "print(twitter_api.VerifyCredentials())"
   ]
  },
  {
   "cell_type": "code",
   "execution_count": 1,
   "metadata": {},
   "outputs": [
    {
     "name": "stdout",
     "output_type": "stream",
     "text": [
      "{\"created_at\": \"Thu Feb 16 01:02:28 +0000 2012\", \"default_profile\": true, \"description\": \"Oxlade-Chamberlain propaganda, Naby Keita is my Dad\", \"favourites_count\": 5661, \"followers_count\": 177, \"friends_count\": 1239, \"geo_enabled\": true, \"id\": 493637502, \"id_str\": \"493637502\", \"listed_count\": 1, \"location\": \"Ireland\", \"name\": \"Paul Connolly\", \"profile_background_color\": \"C0DEED\", \"profile_background_image_url\": \"http://abs.twimg.com/images/themes/theme1/bg.png\", \"profile_background_image_url_https\": \"https://abs.twimg.com/images/themes/theme1/bg.png\", \"profile_image_url\": \"http://pbs.twimg.com/profile_images/952607319778525184/Edva8Ckz_normal.jpg\", \"profile_image_url_https\": \"https://pbs.twimg.com/profile_images/952607319778525184/Edva8Ckz_normal.jpg\", \"profile_link_color\": \"1DA1F2\", \"profile_sidebar_border_color\": \"C0DEED\", \"profile_sidebar_fill_color\": \"DDEEF6\", \"profile_text_color\": \"333333\", \"profile_use_background_image\": true, \"screen_name\": \"paulconnolly17\", \"status\": {\"created_at\": \"Tue Oct 20 13:57:43 +0000 2020\", \"favorite_count\": 8, \"id\": 1318551977014550530, \"id_str\": \"1318551977014550530\", \"in_reply_to_screen_name\": \"Tactical_Times\", \"in_reply_to_status_id\": 1318551548511780864, \"in_reply_to_user_id\": 1067816461572468736, \"lang\": \"en\", \"source\": \"<a href=\\\"https://mobile.twitter.com\\\" rel=\\\"nofollow\\\">Twitter Web App</a>\", \"text\": \"@Tactical_Times Spot on, Im not necessarily in favor of the super league, but its either the billionaires who own t\\u2026 https://t.co/fFNk0sz0Ta\", \"truncated\": true}, \"statuses_count\": 5115}\n"
     ]
    }
   ],
   "source": [
    "import twitter\n",
    "\n",
    "# initialize api instance\n",
    "twitter_api = twitter.Api(consumer_key='7ZR91QtjT7UP2iTdrascCDUr1',\n",
    "                        consumer_secret='rATSEDuGrSqLxSdXr0gDrRS4II35iltzN69Y8VAIZXgphBjqcK',\n",
    "                        access_token_key='493637502-0LYumeRGaeXo2gdVbYUkl9Yu9tZLkMcziaw88OBA',\n",
    "                        access_token_secret='dJ8uSrgZSdWBCvHu0fFBfXJVal2vzuS1UsbfxHA60ZLeR')\n",
    "\n",
    "# test authentication\n",
    "print(twitter_api.VerifyCredentials())"
   ]
  },
  {
   "cell_type": "code",
   "execution_count": 2,
   "metadata": {},
   "outputs": [],
   "source": [
    "def buildTestSet(search_keyword):\n",
    "    try:\n",
    "        tweets_fetched = twitter_api.GetSearch(search_keyword, count = 100)\n",
    "        \n",
    "        print(\"Fetched \" + str(len(tweets_fetched)) + \" tweets for the term \" + search_keyword)\n",
    "        \n",
    "        return [{\"text\":status.text, \"label\":None} for status in tweets_fetched]\n",
    "    except:\n",
    "        print(\"Unfortunately, something went wrong..\")\n",
    "        return None"
   ]
  },
  {
   "cell_type": "code",
   "execution_count": 3,
   "metadata": {},
   "outputs": [
    {
     "name": "stdout",
     "output_type": "stream",
     "text": [
      "Collecting tweepy\n",
      "  Using cached tweepy-3.9.0-py2.py3-none-any.whl (30 kB)\n",
      "Requirement already satisfied: requests[socks]>=2.11.1 in c:\\users\\pconn\\anaconda3\\lib\\site-packages (from tweepy) (2.24.0)\n",
      "Requirement already satisfied: requests-oauthlib>=0.7.0 in c:\\users\\pconn\\anaconda3\\lib\\site-packages (from tweepy) (1.3.0)\n",
      "Requirement already satisfied: six>=1.10.0 in c:\\users\\pconn\\anaconda3\\lib\\site-packages (from tweepy) (1.15.0)\n",
      "Requirement already satisfied: urllib3!=1.25.0,!=1.25.1,<1.26,>=1.21.1 in c:\\users\\pconn\\anaconda3\\lib\\site-packages (from requests[socks]>=2.11.1->tweepy) (1.25.9)\n",
      "Requirement already satisfied: chardet<4,>=3.0.2 in c:\\users\\pconn\\anaconda3\\lib\\site-packages (from requests[socks]>=2.11.1->tweepy) (3.0.4)Note: you may need to restart the kernel to use updated packages.\n",
      "Requirement already satisfied: idna<3,>=2.5 in c:\\users\\pconn\\anaconda3\\lib\\site-packages (from requests[socks]>=2.11.1->tweepy) (2.10)\n",
      "Requirement already satisfied: certifi>=2017.4.17 in c:\\users\\pconn\\anaconda3\\lib\\site-packages (from requests[socks]>=2.11.1->tweepy) (2020.6.20)\n",
      "Requirement already satisfied: PySocks!=1.5.7,>=1.5.6; extra == \"socks\" in c:\\users\\pconn\\anaconda3\\lib\\site-packages (from requests[socks]>=2.11.1->tweepy) (1.7.1)\n",
      "Requirement already satisfied: oauthlib>=3.0.0 in c:\\users\\pconn\\anaconda3\\lib\\site-packages (from requests-oauthlib>=0.7.0->tweepy) (3.1.0)\n",
      "Installing collected packages: tweepy\n",
      "Successfully installed tweepy-3.9.0\n",
      "\n"
     ]
    }
   ],
   "source": [
    "pip install tweepy"
   ]
  },
  {
   "cell_type": "code",
   "execution_count": 4,
   "metadata": {},
   "outputs": [
    {
     "name": "stdout",
     "output_type": "stream",
     "text": [
      "Requirement already satisfied: textblob in c:\\users\\pconn\\anaconda3\\lib\\site-packages (0.15.3)\n",
      "Requirement already satisfied: nltk>=3.1 in c:\\users\\pconn\\anaconda3\\lib\\site-packages (from textblob) (3.5)\n",
      "Requirement already satisfied: regex in c:\\users\\pconn\\anaconda3\\lib\\site-packages (from nltk>=3.1->textblob) (2020.6.8)\n",
      "Requirement already satisfied: joblib in c:\\users\\pconn\\anaconda3\\lib\\site-packages (from nltk>=3.1->textblob) (0.16.0)\n",
      "Requirement already satisfied: click in c:\\users\\pconn\\anaconda3\\lib\\site-packages (from nltk>=3.1->textblob) (7.1.2)\n",
      "Requirement already satisfied: tqdm in c:\\users\\pconn\\anaconda3\\lib\\site-packages (from nltk>=3.1->textblob) (4.50.2)\n",
      "Note: you may need to restart the kernel to use updated packages.\n"
     ]
    }
   ],
   "source": [
    "pip install textblob"
   ]
  },
  {
   "cell_type": "code",
   "execution_count": 5,
   "metadata": {},
   "outputs": [],
   "source": [
    "import tweepy\n",
    "import pandas as pd\n",
    "\n",
    "consumer_key='7ZR91QtjT7UP2iTdrascCDUr1'\n",
    "consumer_secret='rATSEDuGrSqLxSdXr0gDrRS4II35iltzN69Y8VAIZXgphBjqcK'\n",
    "access_token_key='493637502-0LYumeRGaeXo2gdVbYUkl9Yu9tZLkMcziaw88OBA'\n",
    "access_token_secret='dJ8uSrgZSdWBCvHu0fFBfXJVal2vzuS1UsbfxHA60ZLeR'\n"
   ]
  },
  {
   "cell_type": "code",
   "execution_count": 6,
   "metadata": {},
   "outputs": [
    {
     "ename": "NameError",
     "evalue": "name 'access_token' is not defined",
     "output_type": "error",
     "traceback": [
      "\u001b[1;31m---------------------------------------------------------------------------\u001b[0m",
      "\u001b[1;31mNameError\u001b[0m                                 Traceback (most recent call last)",
      "\u001b[1;32m<ipython-input-6-7b0e0bb2a86f>\u001b[0m in \u001b[0;36m<module>\u001b[1;34m\u001b[0m\n\u001b[0;32m      1\u001b[0m \u001b[0mauth\u001b[0m \u001b[1;33m=\u001b[0m \u001b[0mtweepy\u001b[0m\u001b[1;33m.\u001b[0m\u001b[0mOAuthHandler\u001b[0m\u001b[1;33m(\u001b[0m\u001b[0mconsumer_key\u001b[0m\u001b[1;33m,\u001b[0m \u001b[0mconsumer_secret\u001b[0m\u001b[1;33m)\u001b[0m\u001b[1;33m\u001b[0m\u001b[1;33m\u001b[0m\u001b[0m\n\u001b[1;32m----> 2\u001b[1;33m \u001b[0mauth\u001b[0m\u001b[1;33m.\u001b[0m\u001b[0mset_access_token\u001b[0m\u001b[1;33m(\u001b[0m\u001b[0maccess_token\u001b[0m\u001b[1;33m,\u001b[0m \u001b[0maccess_token_secret\u001b[0m\u001b[1;33m)\u001b[0m\u001b[1;33m\u001b[0m\u001b[1;33m\u001b[0m\u001b[0m\n\u001b[0m\u001b[0;32m      3\u001b[0m \u001b[0mapi\u001b[0m \u001b[1;33m=\u001b[0m \u001b[0mtweepy\u001b[0m\u001b[1;33m.\u001b[0m\u001b[0mAPI\u001b[0m\u001b[1;33m(\u001b[0m\u001b[0mauth\u001b[0m\u001b[1;33m)\u001b[0m\u001b[1;33m\u001b[0m\u001b[1;33m\u001b[0m\u001b[0m\n",
      "\u001b[1;31mNameError\u001b[0m: name 'access_token' is not defined"
     ]
    }
   ],
   "source": [
    "auth = tweepy.OAuthHandler(consumer_key, consumer_secret)\n",
    "auth.set_access_token(access_token_key, access_token_secret)\n",
    "api = tweepy.API(auth)"
   ]
  },
  {
   "cell_type": "code",
   "execution_count": 7,
   "metadata": {},
   "outputs": [],
   "source": [
    "auth = tweepy.OAuthHandler(consumer_key, consumer_secret)\n",
    "auth.set_access_token(access_token_key, access_token_secret)\n",
    "api = tweepy.API(auth)"
   ]
  },
  {
   "cell_type": "code",
   "execution_count": 8,
   "metadata": {},
   "outputs": [
    {
     "ename": "IndentationError",
     "evalue": "expected an indented block (<ipython-input-8-f5afc4b119fa>, line 3)",
     "output_type": "error",
     "traceback": [
      "\u001b[1;36m  File \u001b[1;32m\"<ipython-input-8-f5afc4b119fa>\"\u001b[1;36m, line \u001b[1;32m3\u001b[0m\n\u001b[1;33m    print(tweet.user.name, tweet.text)\u001b[0m\n\u001b[1;37m    ^\u001b[0m\n\u001b[1;31mIndentationError\u001b[0m\u001b[1;31m:\u001b[0m expected an indented block\n"
     ]
    }
   ],
   "source": [
    "public_tweets = api.home_timeline()\n",
    "for tweet in public_tweets:\n",
    "print(tweet.user.name, tweet.text)"
   ]
  },
  {
   "cell_type": "code",
   "execution_count": 9,
   "metadata": {},
   "outputs": [
    {
     "name": "stdout",
     "output_type": "stream",
     "text": [
      "Andy Robson Tips Yes and they should probably be even bigger... Lazio have NINE players out with Covid including Immobile. \n",
      "\n",
      "📰… https://t.co/DwVpJkBooM\n",
      "bet365 Rank these Premier League centre-backs in order of ability:\n",
      "\n",
      "John Terry\n",
      "Virgil van Dijk\n",
      "Nemanja Vidic\n",
      "Vincent Kompa… https://t.co/yloVK9FCHD\n",
      "LEVi RT @DenzelJunior_: Choose wisely. https://t.co/hfbzfbXWlT\n",
      "The Sole Supplier RT @thesolerestocks: Keep trying to checkout...While sizes are showing you can still cop! ⚡️ \n",
      "\n",
      "Link &gt; https://t.co/9MYgdiSDPc https://t.co/…\n",
      "The Sole Supplier Which sneaker do you want us to give away next?! Get your votes in! 🔥\n",
      "JOE Follow BudLightUK on Instagram! 👇\n",
      "https://t.co/AiEvbHhwDg\n",
      "Empire of the Kop As it stands, #LFC have one fully fit senior centre-half - it's a tough spot for Jurgen Klopp, but our man… https://t.co/A55UXilIjB\n",
      "Liverpool FC 2️⃣ big goals in our last 2️⃣ Anfield games ⚽️⚽️\n",
      "\n",
      "@DiogoJota18 🔥 https://t.co/uX4KoogseS\n",
      "JOE Free Beer? Beer; for free?!\n",
      "\n",
      "Bud Light are giving away FREE beer to cheer up your 2020.\n",
      "\n",
      "Simply add #BudLight2020 t… https://t.co/ZXEzRkdFkg\n",
      "LEVi A King 👑 https://t.co/F9HtO0meCN\n",
      "LADbible The military was only able to arrest one of the two pilots after they attempted to escape.\n",
      "Gary Lineker Spot on. https://t.co/TzLGqkh9pS\n",
      "Jake The greatest of all time, can't wait for the day he manages Portugal to a world cup win https://t.co/xIhTTKi1zm\n",
      "LEVi 😂😂😂 can’t wait 🙌🏾✈️ https://t.co/WeW4CKaXn8\n",
      "Piers Morgan BREAKING: Brain-dead zombie Love Islanders finally Wake Up.... 🤣🤣⁦@lucierosedonlan⁩ #WakeUp https://t.co/HfxfYLdPan\n",
      "The Sole Supplier RT @thesolerestocks: AF1 Skeleton LIVE at OS!\n",
      "\n",
      "Link &gt; https://t.co/9MYgdiSDPc https://t.co/x8bjDzYhiE\n",
      "Chris @NAMELESS Someone else must have this resume cuz clearly it’s not me https://t.co/EkQBjCctNV\n",
      "SportsJOE Have a crack at yesterday's quiz before Day 221 drops at midday https://t.co/qgM42pDoJK\n",
      "ODDSbible Benzema seeing Vinicius Junior at training today after his conversation with Mendy got leaked https://t.co/Y6J9QgNOen\n",
      "Balls.ie What do we think? https://t.co/I3Gp1PP9fF\n"
     ]
    }
   ],
   "source": [
    "public_tweets = api.home_timeline()\n",
    "for tweet in public_tweets:\n",
    "    print(tweet.user.name, tweet.text)"
   ]
  },
  {
   "cell_type": "code",
   "execution_count": 10,
   "metadata": {},
   "outputs": [],
   "source": [
    "def fetch_tweets(hashtag):\n",
    "    tweet_user = []\n",
    "    tweet_time = []\n",
    "    tweet_string = []\n",
    "   \n",
    "    for tweet in tweepy.Cursor(api.search,q=hashtag, count=2000).items(2000):\n",
    "            if (not tweet.retweeted) and (\"RT @\" not in tweet.text):\n",
    "                if tweet.lang == \"en\":\n",
    "                   tweet_user.append(tweet.user.name)\n",
    "                   tweet_time.append(tweet.created_at)\n",
    "                   tweet_string.append(tweet.text)\n",
    "                    \n",
    "    df = pd.DataFrame({\"username\":tweet_user, \"time\": tweet_time, \"tweet\": tweet_string})\n",
    "    return df"
   ]
  },
  {
   "cell_type": "code",
   "execution_count": 11,
   "metadata": {},
   "outputs": [],
   "source": [
    "football_df = fetch_tweets(\"Liverpool\")"
   ]
  },
  {
   "cell_type": "code",
   "execution_count": 12,
   "metadata": {},
   "outputs": [
    {
     "name": "stdout",
     "output_type": "stream",
     "text": [
      "<bound method NDFrame.head of                    username                time  \\\n",
      "0                Ethan Hunt 2020-10-28 10:14:42   \n",
      "1                     Craig 2020-10-28 10:14:42   \n",
      "2                       Tom 2020-10-28 10:14:35   \n",
      "3             Callum Newall 2020-10-28 10:14:24   \n",
      "4    (W)alterTheStreamer 🐶⚽ 2020-10-28 10:14:24   \n",
      "..                      ...                 ...   \n",
      "864                LFC News 2020-10-28 09:17:34   \n",
      "865   EMEKA OKOLI KINGSLEY💭 2020-10-28 09:17:31   \n",
      "866                   scone 2020-10-28 09:17:30   \n",
      "867           Kevin Dennehy 2020-10-28 09:17:25   \n",
      "868         Martin Fretwell 2020-10-28 09:17:24   \n",
      "\n",
      "                                                 tweet  \n",
      "0    With a winning combination of low property pri...  \n",
      "1    Liverpool fans are a different breed. Wtf http...  \n",
      "2    Anyone who's even thinking about getting David...  \n",
      "3    Liverpool fans love a good death threats to go...  \n",
      "4    @LFC @DiogoJota18 WOW. STRUGGLING TO WIN AGAIN...  \n",
      "..                                                 ...  \n",
      "864  Liverpool 2-0 Midtjylland: Player Ratings – Wh...  \n",
      "865    @djcuppymusic Liverpool #LetsTalkFutureLearning  \n",
      "866  @SkyBetHelp how did this bet lose I thought I ...  \n",
      "867  @TheKnowledge_GU Liverpool are in 2nd and have...  \n",
      "868  @SarcasticForest 1 Liverpool \\n2 Man U\\n3 Read...  \n",
      "\n",
      "[869 rows x 3 columns]>\n"
     ]
    }
   ],
   "source": [
    "print(football_df.head)"
   ]
  },
  {
   "cell_type": "code",
   "execution_count": 13,
   "metadata": {},
   "outputs": [
    {
     "name": "stdout",
     "output_type": "stream",
     "text": [
      "                   username                time  \\\n",
      "0                Ethan Hunt 2020-10-28 10:14:42   \n",
      "1                     Craig 2020-10-28 10:14:42   \n",
      "2                       Tom 2020-10-28 10:14:35   \n",
      "3             Callum Newall 2020-10-28 10:14:24   \n",
      "4    (W)alterTheStreamer 🐶⚽ 2020-10-28 10:14:24   \n",
      "..                      ...                 ...   \n",
      "864                LFC News 2020-10-28 09:17:34   \n",
      "865   EMEKA OKOLI KINGSLEY💭 2020-10-28 09:17:31   \n",
      "866                   scone 2020-10-28 09:17:30   \n",
      "867           Kevin Dennehy 2020-10-28 09:17:25   \n",
      "868         Martin Fretwell 2020-10-28 09:17:24   \n",
      "\n",
      "                                                 tweet  \n",
      "0    With a winning combination of low property pri...  \n",
      "1    Liverpool fans are a different breed. Wtf http...  \n",
      "2    Anyone who's even thinking about getting David...  \n",
      "3    Liverpool fans love a good death threats to go...  \n",
      "4    @LFC @DiogoJota18 WOW. STRUGGLING TO WIN AGAIN...  \n",
      "..                                                 ...  \n",
      "864  Liverpool 2-0 Midtjylland: Player Ratings – Wh...  \n",
      "865    @djcuppymusic Liverpool #LetsTalkFutureLearning  \n",
      "866  @SkyBetHelp how did this bet lose I thought I ...  \n",
      "867  @TheKnowledge_GU Liverpool are in 2nd and have...  \n",
      "868  @SarcasticForest 1 Liverpool \\n2 Man U\\n3 Read...  \n",
      "\n",
      "[869 rows x 3 columns]\n"
     ]
    }
   ],
   "source": [
    "print(football_df)"
   ]
  },
  {
   "cell_type": "code",
   "execution_count": 14,
   "metadata": {},
   "outputs": [
    {
     "ename": "NameError",
     "evalue": "name 'TextBlob' is not defined",
     "output_type": "error",
     "traceback": [
      "\u001b[1;31m---------------------------------------------------------------------------\u001b[0m",
      "\u001b[1;31mNameError\u001b[0m                                 Traceback (most recent call last)",
      "\u001b[1;32m<ipython-input-14-6b15ff9944b1>\u001b[0m in \u001b[0;36m<module>\u001b[1;34m\u001b[0m\n\u001b[1;32m----> 1\u001b[1;33m \u001b[0mfootball_df\u001b[0m\u001b[1;33m[\u001b[0m\u001b[1;34m\"sentiment\"\u001b[0m\u001b[1;33m]\u001b[0m \u001b[1;33m=\u001b[0m \u001b[0mfootball_df\u001b[0m\u001b[1;33m[\u001b[0m\u001b[1;34m\"tweet\"\u001b[0m\u001b[1;33m]\u001b[0m\u001b[1;33m.\u001b[0m\u001b[0mapply\u001b[0m\u001b[1;33m(\u001b[0m\u001b[1;32mlambda\u001b[0m \u001b[0mtweet\u001b[0m\u001b[1;33m:\u001b[0m \u001b[0mTextBlob\u001b[0m\u001b[1;33m(\u001b[0m\u001b[0mtweet\u001b[0m\u001b[1;33m)\u001b[0m\u001b[1;33m.\u001b[0m\u001b[0msentiment\u001b[0m\u001b[1;33m.\u001b[0m\u001b[0mpolarity\u001b[0m\u001b[1;33m)\u001b[0m\u001b[1;33m\u001b[0m\u001b[1;33m\u001b[0m\u001b[0m\n\u001b[0m\u001b[0;32m      2\u001b[0m \u001b[0mprint\u001b[0m\u001b[1;33m(\u001b[0m\u001b[0mfootball_df\u001b[0m\u001b[1;33m.\u001b[0m\u001b[0mhead\u001b[0m\u001b[1;33m(\u001b[0m\u001b[1;33m)\u001b[0m\u001b[1;33m)\u001b[0m\u001b[1;33m\u001b[0m\u001b[1;33m\u001b[0m\u001b[0m\n",
      "\u001b[1;32m~\\anaconda3\\lib\\site-packages\\pandas\\core\\series.py\u001b[0m in \u001b[0;36mapply\u001b[1;34m(self, func, convert_dtype, args, **kwds)\u001b[0m\n\u001b[0;32m   4198\u001b[0m             \u001b[1;32melse\u001b[0m\u001b[1;33m:\u001b[0m\u001b[1;33m\u001b[0m\u001b[1;33m\u001b[0m\u001b[0m\n\u001b[0;32m   4199\u001b[0m                 \u001b[0mvalues\u001b[0m \u001b[1;33m=\u001b[0m \u001b[0mself\u001b[0m\u001b[1;33m.\u001b[0m\u001b[0mastype\u001b[0m\u001b[1;33m(\u001b[0m\u001b[0mobject\u001b[0m\u001b[1;33m)\u001b[0m\u001b[1;33m.\u001b[0m\u001b[0m_values\u001b[0m\u001b[1;33m\u001b[0m\u001b[1;33m\u001b[0m\u001b[0m\n\u001b[1;32m-> 4200\u001b[1;33m                 \u001b[0mmapped\u001b[0m \u001b[1;33m=\u001b[0m \u001b[0mlib\u001b[0m\u001b[1;33m.\u001b[0m\u001b[0mmap_infer\u001b[0m\u001b[1;33m(\u001b[0m\u001b[0mvalues\u001b[0m\u001b[1;33m,\u001b[0m \u001b[0mf\u001b[0m\u001b[1;33m,\u001b[0m \u001b[0mconvert\u001b[0m\u001b[1;33m=\u001b[0m\u001b[0mconvert_dtype\u001b[0m\u001b[1;33m)\u001b[0m\u001b[1;33m\u001b[0m\u001b[1;33m\u001b[0m\u001b[0m\n\u001b[0m\u001b[0;32m   4201\u001b[0m \u001b[1;33m\u001b[0m\u001b[0m\n\u001b[0;32m   4202\u001b[0m         \u001b[1;32mif\u001b[0m \u001b[0mlen\u001b[0m\u001b[1;33m(\u001b[0m\u001b[0mmapped\u001b[0m\u001b[1;33m)\u001b[0m \u001b[1;32mand\u001b[0m \u001b[0misinstance\u001b[0m\u001b[1;33m(\u001b[0m\u001b[0mmapped\u001b[0m\u001b[1;33m[\u001b[0m\u001b[1;36m0\u001b[0m\u001b[1;33m]\u001b[0m\u001b[1;33m,\u001b[0m \u001b[0mSeries\u001b[0m\u001b[1;33m)\u001b[0m\u001b[1;33m:\u001b[0m\u001b[1;33m\u001b[0m\u001b[1;33m\u001b[0m\u001b[0m\n",
      "\u001b[1;32mpandas\\_libs\\lib.pyx\u001b[0m in \u001b[0;36mpandas._libs.lib.map_infer\u001b[1;34m()\u001b[0m\n",
      "\u001b[1;32m<ipython-input-14-6b15ff9944b1>\u001b[0m in \u001b[0;36m<lambda>\u001b[1;34m(tweet)\u001b[0m\n\u001b[1;32m----> 1\u001b[1;33m \u001b[0mfootball_df\u001b[0m\u001b[1;33m[\u001b[0m\u001b[1;34m\"sentiment\"\u001b[0m\u001b[1;33m]\u001b[0m \u001b[1;33m=\u001b[0m \u001b[0mfootball_df\u001b[0m\u001b[1;33m[\u001b[0m\u001b[1;34m\"tweet\"\u001b[0m\u001b[1;33m]\u001b[0m\u001b[1;33m.\u001b[0m\u001b[0mapply\u001b[0m\u001b[1;33m(\u001b[0m\u001b[1;32mlambda\u001b[0m \u001b[0mtweet\u001b[0m\u001b[1;33m:\u001b[0m \u001b[0mTextBlob\u001b[0m\u001b[1;33m(\u001b[0m\u001b[0mtweet\u001b[0m\u001b[1;33m)\u001b[0m\u001b[1;33m.\u001b[0m\u001b[0msentiment\u001b[0m\u001b[1;33m.\u001b[0m\u001b[0mpolarity\u001b[0m\u001b[1;33m)\u001b[0m\u001b[1;33m\u001b[0m\u001b[1;33m\u001b[0m\u001b[0m\n\u001b[0m\u001b[0;32m      2\u001b[0m \u001b[0mprint\u001b[0m\u001b[1;33m(\u001b[0m\u001b[0mfootball_df\u001b[0m\u001b[1;33m.\u001b[0m\u001b[0mhead\u001b[0m\u001b[1;33m(\u001b[0m\u001b[1;33m)\u001b[0m\u001b[1;33m)\u001b[0m\u001b[1;33m\u001b[0m\u001b[1;33m\u001b[0m\u001b[0m\n",
      "\u001b[1;31mNameError\u001b[0m: name 'TextBlob' is not defined"
     ]
    }
   ],
   "source": [
    "football_df[\"sentiment\"] = football_df[\"tweet\"].apply(lambda tweet: TextBlob(tweet).sentiment.polarity)\n",
    "print(football_df.head())"
   ]
  },
  {
   "cell_type": "code",
   "execution_count": 15,
   "metadata": {},
   "outputs": [],
   "source": [
    "from textblob import TextBlob"
   ]
  },
  {
   "cell_type": "code",
   "execution_count": 16,
   "metadata": {},
   "outputs": [
    {
     "name": "stdout",
     "output_type": "stream",
     "text": [
      "                 username                time  \\\n",
      "0              Ethan Hunt 2020-10-28 10:14:42   \n",
      "1                   Craig 2020-10-28 10:14:42   \n",
      "2                     Tom 2020-10-28 10:14:35   \n",
      "3           Callum Newall 2020-10-28 10:14:24   \n",
      "4  (W)alterTheStreamer 🐶⚽ 2020-10-28 10:14:24   \n",
      "\n",
      "                                               tweet  sentiment  \n",
      "0  With a winning combination of low property pri...   0.318667  \n",
      "1  Liverpool fans are a different breed. Wtf http...  -0.250000  \n",
      "2  Anyone who's even thinking about getting David...   0.000000  \n",
      "3  Liverpool fans love a good death threats to go...   0.600000  \n",
      "4  @LFC @DiogoJota18 WOW. STRUGGLING TO WIN AGAIN...   0.050000  \n"
     ]
    }
   ],
   "source": [
    "football_df[\"sentiment\"] = football_df[\"tweet\"].apply(lambda tweet: TextBlob(tweet).sentiment.polarity)\n",
    "print(football_df.head())"
   ]
  },
  {
   "cell_type": "code",
   "execution_count": 17,
   "metadata": {},
   "outputs": [
    {
     "name": "stdout",
     "output_type": "stream",
     "text": [
      "Positive Tweets: 283\n",
      "Negative Tweets: 165\n"
     ]
    }
   ],
   "source": [
    "football_df_pos = football_df[football_df[\"sentiment\"] > 0.0]\n",
    "football_df_neg = football_df[football_df[\"sentiment\"] < 0.0]\n",
    "print(\"Positive Tweets:\", len(football_df_pos))\n",
    "print(\"Negative Tweets:\", len(football_df_neg))"
   ]
  },
  {
   "cell_type": "code",
   "execution_count": 18,
   "metadata": {},
   "outputs": [],
   "source": [
    "def calc_sentiment(hashtag):\n",
    "    df = fetch_tweets(hashtag)\n",
    "    df[\"sentiment\"] = df[\"tweet\"].apply(lambda tweet: TextBlob(tweet).sentiment.polarity)\n",
    "    df_pos = df[df[\"sentiment\"] > 0.0]\n",
    "    df_neg = df[df[\"sentiment\"] < 0.0]\n",
    "    print(\"Positive Tweets on #{}: \".format(hashtag), len(df_pos))\n",
    "    print(\"Negative Tweets on #{}: \".format(hashtag), len(df_neg))\n",
    "    return (len(df_pos), len(df_neg))"
   ]
  },
  {
   "cell_type": "code",
   "execution_count": null,
   "metadata": {},
   "outputs": [],
   "source": []
  }
 ],
 "metadata": {
  "kernelspec": {
   "display_name": "Python 3",
   "language": "python",
   "name": "python3"
  },
  "language_info": {
   "codemirror_mode": {
    "name": "ipython",
    "version": 3
   },
   "file_extension": ".py",
   "mimetype": "text/x-python",
   "name": "python",
   "nbconvert_exporter": "python",
   "pygments_lexer": "ipython3",
   "version": "3.7.9"
  }
 },
 "nbformat": 4,
 "nbformat_minor": 4
}
